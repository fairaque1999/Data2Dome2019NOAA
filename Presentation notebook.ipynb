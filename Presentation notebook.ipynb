{
  "cells": [
    {
      "cell_type": "markdown",
      "source": [
        "## Importing the required Libraries\n",
        "\n",
        "We will start by importing the required python modules or libraries. \n",
        "The two essential libraries for this exercies are **numpy** and **pandas**. If you want to plot your data too it's a good idea to import the matplotlib library."
      ],
      "metadata": {}
    },
    {
      "cell_type": "code",
      "source": [
        "import numpy as np\n",
        "import pandas as pd\n",
        "import matplotlib.pyplot as plt "
      ],
      "outputs": [],
      "execution_count": 1,
      "metadata": {
        "collapsed": false,
        "outputHidden": false,
        "inputHidden": false
      }
    },
    {
      "cell_type": "markdown",
      "source": [
        "## Importing the NOAA .csv file as a pandas Dataframe\n",
        "\n",
        "Tables in pandas are called dataframes. This format of the table makes it really easy to manipulate the columns and rows of the table for classifying as well as cleaning th dataset."
      ],
      "metadata": {}
    },
    {
      "cell_type": "code",
      "source": [
        "Data = pd.read_csv('/Users/ishraque/Documents/Data_Weather/1091402_exercise6_prob1to3.txt',\\\n",
        "                sep='\\s+', na_values='-9999', skiprows=[1])"
      ],
      "outputs": [],
      "execution_count": 2,
      "metadata": {
        "collapsed": false,
        "outputHidden": false,
        "inputHidden": false
      }
    },
    {
      "cell_type": "markdown",
      "source": [
        "It's always a good idea to look at the relevant information of the loaded dataframe before proceeding with any form of analysis or editing on the data."
      ],
      "metadata": {}
    },
    {
      "cell_type": "code",
      "source": [
        "Data.head()"
      ],
      "outputs": [
        {
          "output_type": "execute_result",
          "execution_count": 3,
          "data": {
            "text/plain": [
              "             STATION  ELEVATION  LATITUDE  LONGITUDE      DATE  PRCP  TAVG  \\\n",
              "0  GHCND:FIE00142080         51   60.3269    24.9603  19520101  0.31  37.0   \n",
              "1  GHCND:FIE00142080         51   60.3269    24.9603  19520102   NaN  35.0   \n",
              "2  GHCND:FIE00142080         51   60.3269    24.9603  19520103  0.14  33.0   \n",
              "3  GHCND:FIE00142080         51   60.3269    24.9603  19520104  0.05  29.0   \n",
              "4  GHCND:FIE00142080         51   60.3269    24.9603  19520105  0.06  27.0   \n",
              "\n",
              "   TMAX  TMIN  \n",
              "0  39.0  34.0  \n",
              "1  37.0  34.0  \n",
              "2  36.0   NaN  \n",
              "3  30.0  25.0  \n",
              "4  30.0  25.0  "
            ],
            "text/html": [
              "<div>\n",
              "<style scoped>\n",
              "    .dataframe tbody tr th:only-of-type {\n",
              "        vertical-align: middle;\n",
              "    }\n",
              "\n",
              "    .dataframe tbody tr th {\n",
              "        vertical-align: top;\n",
              "    }\n",
              "\n",
              "    .dataframe thead th {\n",
              "        text-align: right;\n",
              "    }\n",
              "</style>\n",
              "<table border=\"1\" class=\"dataframe\">\n",
              "  <thead>\n",
              "    <tr style=\"text-align: right;\">\n",
              "      <th></th>\n",
              "      <th>STATION</th>\n",
              "      <th>ELEVATION</th>\n",
              "      <th>LATITUDE</th>\n",
              "      <th>LONGITUDE</th>\n",
              "      <th>DATE</th>\n",
              "      <th>PRCP</th>\n",
              "      <th>TAVG</th>\n",
              "      <th>TMAX</th>\n",
              "      <th>TMIN</th>\n",
              "    </tr>\n",
              "  </thead>\n",
              "  <tbody>\n",
              "    <tr>\n",
              "      <th>0</th>\n",
              "      <td>GHCND:FIE00142080</td>\n",
              "      <td>51</td>\n",
              "      <td>60.3269</td>\n",
              "      <td>24.9603</td>\n",
              "      <td>19520101</td>\n",
              "      <td>0.31</td>\n",
              "      <td>37.0</td>\n",
              "      <td>39.0</td>\n",
              "      <td>34.0</td>\n",
              "    </tr>\n",
              "    <tr>\n",
              "      <th>1</th>\n",
              "      <td>GHCND:FIE00142080</td>\n",
              "      <td>51</td>\n",
              "      <td>60.3269</td>\n",
              "      <td>24.9603</td>\n",
              "      <td>19520102</td>\n",
              "      <td>NaN</td>\n",
              "      <td>35.0</td>\n",
              "      <td>37.0</td>\n",
              "      <td>34.0</td>\n",
              "    </tr>\n",
              "    <tr>\n",
              "      <th>2</th>\n",
              "      <td>GHCND:FIE00142080</td>\n",
              "      <td>51</td>\n",
              "      <td>60.3269</td>\n",
              "      <td>24.9603</td>\n",
              "      <td>19520103</td>\n",
              "      <td>0.14</td>\n",
              "      <td>33.0</td>\n",
              "      <td>36.0</td>\n",
              "      <td>NaN</td>\n",
              "    </tr>\n",
              "    <tr>\n",
              "      <th>3</th>\n",
              "      <td>GHCND:FIE00142080</td>\n",
              "      <td>51</td>\n",
              "      <td>60.3269</td>\n",
              "      <td>24.9603</td>\n",
              "      <td>19520104</td>\n",
              "      <td>0.05</td>\n",
              "      <td>29.0</td>\n",
              "      <td>30.0</td>\n",
              "      <td>25.0</td>\n",
              "    </tr>\n",
              "    <tr>\n",
              "      <th>4</th>\n",
              "      <td>GHCND:FIE00142080</td>\n",
              "      <td>51</td>\n",
              "      <td>60.3269</td>\n",
              "      <td>24.9603</td>\n",
              "      <td>19520105</td>\n",
              "      <td>0.06</td>\n",
              "      <td>27.0</td>\n",
              "      <td>30.0</td>\n",
              "      <td>25.0</td>\n",
              "    </tr>\n",
              "  </tbody>\n",
              "</table>\n",
              "</div>"
            ]
          },
          "metadata": {}
        }
      ],
      "execution_count": 3,
      "metadata": {
        "collapsed": false,
        "outputHidden": false,
        "inputHidden": false
      }
    },
    {
      "cell_type": "code",
      "source": [
        "Data['TAVG'].describe()"
      ],
      "outputs": [
        {
          "output_type": "execute_result",
          "execution_count": 4,
          "data": {
            "text/plain": [
              "count    20408.000000\n",
              "mean        41.324089\n",
              "std         16.688849\n",
              "min        -30.000000\n",
              "25%         31.000000\n",
              "50%         41.000000\n",
              "75%         55.000000\n",
              "max         80.000000\n",
              "Name: TAVG, dtype: float64"
            ]
          },
          "metadata": {}
        }
      ],
      "execution_count": 4,
      "metadata": {
        "collapsed": false,
        "outputHidden": false,
        "inputHidden": false
      }
    },
    {
      "cell_type": "markdown",
      "source": [
        "## Finding the TMAX temperature for the summer of '69\n",
        "\n",
        "This is an exercise on perfomring string slicing as well as conditional indexing of the dataset"
      ],
      "metadata": {}
    },
    {
      "cell_type": "markdown",
      "source": [
        "1. Slicing the month numbers out of the DATE column and assigning them to the month names"
      ],
      "metadata": {}
    },
    {
      "cell_type": "code",
      "source": [
        "#Converting the DATE column into string values from integers. This procedure makes the slicing of dates possible\n",
        "Data['DATE_str'] = Data['DATE'].astype(str)\n",
        "#Slicing the day values out of DATE_str\n",
        "Data['DATE_yrmonth'] = Data['DATE_str'].str.slice(start=0, stop=6)\n",
        "#Converting DATE_str into integer values\n",
        "Data['DATE_yrmonthint'] = Data['DATE_yrmonth'].astype(int)\n",
        "#creating a column of integers with the year in them \n",
        "Data['DATE_yrint'] = Data['DATE_str'].str.slice(start=0, stop=4)\n",
        "Data['DATE_yrint'] = Data['DATE_yrint'].astype(int)\n",
        "#creating a column for just the number of months. This makes the mapping of month names to the month numbers possible\n",
        "Data['DATE_month'] = Data['DATE_str'].str.slice(start=4, stop=6)"
      ],
      "outputs": [],
      "execution_count": 5,
      "metadata": {
        "collapsed": false,
        "outputHidden": false,
        "inputHidden": false
      }
    },
    {
      "cell_type": "markdown",
      "source": [
        "2. Creating a dictionary that maps the month names to the dataset"
      ],
      "metadata": {}
    },
    {
      "cell_type": "code",
      "source": [
        "dict_months = {'01':'January', '02':'February', '03':'March', '04':'April',\\\n",
        "               '05':'May', '06':'June', '07':'July', '08':'August', '09':'September',\\\n",
        "               '10':'October', '11':'November', '12':'December'}"
      ],
      "outputs": [],
      "execution_count": 6,
      "metadata": {
        "collapsed": false,
        "outputHidden": false,
        "inputHidden": false
      }
    },
    {
      "cell_type": "markdown",
      "source": [
        "3. Performing a conditional indexing on the dataframe. This is similar to if-else statement you might be familiar with, but now the condtitions are applied to the entire dataframe. In this case we are extracting a subset of our main dataframe as a series that only contains the data from May 1969 to August 1969."
      ],
      "metadata": {}
    },
    {
      "cell_type": "code",
      "source": [
        "summer69 = Data.ix[(Data['DATE_yrmonthint']>196904)&(Data['DATE_yrmonthint']<196909)]"
      ],
      "outputs": [
        {
          "output_type": "stream",
          "name": "stderr",
          "text": [
            "/Users/ishraque/anaconda3/lib/python3.7/site-packages/ipykernel_launcher.py:1: DeprecationWarning: \n",
            ".ix is deprecated. Please use\n",
            ".loc for label based indexing or\n",
            ".iloc for positional indexing\n",
            "\n",
            "See the documentation here:\n",
            "http://pandas.pydata.org/pandas-docs/stable/indexing.html#ix-indexer-is-deprecated\n",
            "  \"\"\"Entry point for launching an IPython kernel.\n"
          ]
        }
      ],
      "execution_count": 7,
      "metadata": {
        "collapsed": false,
        "outputHidden": false,
        "inputHidden": false
      }
    },
    {
      "cell_type": "markdown",
      "source": [
        "4. Finally, finding the max tempertaure during the summer of '69"
      ],
      "metadata": {}
    },
    {
      "cell_type": "code",
      "source": [
        "maxtemp69 = summer69['TMAX'].max()\n",
        "print(maxtemp69)"
      ],
      "outputs": [
        {
          "output_type": "stream",
          "name": "stdout",
          "text": [
            "85.0\n"
          ]
        }
      ],
      "execution_count": 8,
      "metadata": {
        "collapsed": false,
        "outputHidden": false,
        "inputHidden": false
      }
    },
    {
      "cell_type": "markdown",
      "source": [
        "And Voila! We're done!"
      ],
      "metadata": {}
    },
    {
      "cell_type": "markdown",
      "source": [
        "## Calculating Monthly Average Temperatures\n",
        "\n",
        "This is an exercise on grouping data and iterating through a dataset"
      ],
      "metadata": {}
    },
    {
      "cell_type": "markdown",
      "source": [
        "1. Grouping the monthly data"
      ],
      "metadata": {}
    },
    {
      "cell_type": "code",
      "source": [
        "monthlyData = pd.DataFrame() #This creates an empty dataframe where we can eventually add our grouped data\n",
        "grouped1 = Data.groupby('DATE_yrmonth')# This creates the group for each month of each year\n",
        "mean_cols1 = ['TAVG'] #This assigns the column of the dataset that needs to be averaged for each group we will get from the preious line   "
      ],
      "outputs": [],
      "execution_count": 9,
      "metadata": {
        "collapsed": false,
        "outputHidden": false,
        "inputHidden": false
      }
    },
    {
      "cell_type": "markdown",
      "source": [
        "2. Iterating over the group to get the mean monthly temperature values"
      ],
      "metadata": {}
    },
    {
      "cell_type": "code",
      "source": [
        "for key, group in grouped1:\n",
        "    #aggregating the data\n",
        "    mean_values1 = group[mean_cols1].mean()\n",
        "    #adding the key(datetime values) in the aggregated data\n",
        "    mean_values1['DATE_yrmonth'] = key\n",
        "    #appending the aggregated data into the monthlyData empty dataframe\n",
        "    monthlyData = monthlyData.append(mean_values1, ignore_index=True)"
      ],
      "outputs": [],
      "execution_count": 10,
      "metadata": {
        "collapsed": false,
        "outputHidden": false,
        "inputHidden": false
      }
    },
    {
      "cell_type": "markdown",
      "source": [
        "3. Creating a column in monthlyData for month numbers and then remapping the month numbers to month names using the previously defined dictionary"
      ],
      "metadata": {}
    },
    {
      "cell_type": "code",
      "source": [
        "monthlyData['Month'] = monthlyData['DATE_yrmonth'].str.slice(start=4, stop=6)\n",
        "monthlyData['Month'] = monthlyData['Month'].map(dict_months)"
      ],
      "outputs": [],
      "execution_count": 11,
      "metadata": {
        "collapsed": false,
        "outputHidden": false,
        "inputHidden": false
      }
    },
    {
      "cell_type": "markdown",
      "source": [
        "4. Creating another column in monthlyData for temperature values in celcius  "
      ],
      "metadata": {}
    },
    {
      "cell_type": "code",
      "source": [
        "monthlyData['TempsC'] = None"
      ],
      "outputs": [],
      "execution_count": 12,
      "metadata": {
        "collapsed": false,
        "outputHidden": false,
        "inputHidden": false
      }
    },
    {
      "cell_type": "markdown",
      "source": [
        "5. Writing a fucntion that converts temperatures from Fahrenheit to Celcius"
      ],
      "metadata": {}
    },
    {
      "cell_type": "code",
      "source": [
        "def FahrToCelsius(temp_fahrenheit):\n",
        "    converted_temp = (temp_fahrenheit-32)/1.8\n",
        "    return converted_temp "
      ],
      "outputs": [],
      "execution_count": 13,
      "metadata": {
        "collapsed": false,
        "outputHidden": false,
        "inputHidden": false
      }
    },
    {
      "cell_type": "markdown",
      "source": [
        "6. Iterating the conversion through the monthlyData dataframe and adding it to the new column TempsC"
      ],
      "metadata": {}
    },
    {
      "cell_type": "code",
      "source": [
        "for idx, row in monthlyData.iterrows():\n",
        "    #conversion\n",
        "    celsius1 = FahrToCelsius(row['TAVG'])\n",
        "    #appending theses new values to the TempsC column\n",
        "    monthlyData.loc[idx, 'TempsC'] = celsius1"
      ],
      "outputs": [],
      "execution_count": 14,
      "metadata": {
        "collapsed": false,
        "outputHidden": false,
        "inputHidden": false
      }
    },
    {
      "cell_type": "markdown",
      "source": [
        "Now, let's look at the new Dataframe we have created!"
      ],
      "metadata": {}
    },
    {
      "cell_type": "code",
      "source": [
        "monthlyData.head()"
      ],
      "outputs": [
        {
          "output_type": "execute_result",
          "execution_count": 15,
          "data": {
            "text/plain": [
              "  DATE_yrmonth       TAVG     Month   TempsC\n",
              "0       195201  29.478261   January -1.40097\n",
              "1       195202  24.800000  February       -4\n",
              "2       195203  13.807692     March -10.1068\n",
              "3       195204  39.607143     April  4.22619\n",
              "4       195205  44.666667       May  7.03704"
            ],
            "text/html": [
              "<div>\n",
              "<style scoped>\n",
              "    .dataframe tbody tr th:only-of-type {\n",
              "        vertical-align: middle;\n",
              "    }\n",
              "\n",
              "    .dataframe tbody tr th {\n",
              "        vertical-align: top;\n",
              "    }\n",
              "\n",
              "    .dataframe thead th {\n",
              "        text-align: right;\n",
              "    }\n",
              "</style>\n",
              "<table border=\"1\" class=\"dataframe\">\n",
              "  <thead>\n",
              "    <tr style=\"text-align: right;\">\n",
              "      <th></th>\n",
              "      <th>DATE_yrmonth</th>\n",
              "      <th>TAVG</th>\n",
              "      <th>Month</th>\n",
              "      <th>TempsC</th>\n",
              "    </tr>\n",
              "  </thead>\n",
              "  <tbody>\n",
              "    <tr>\n",
              "      <th>0</th>\n",
              "      <td>195201</td>\n",
              "      <td>29.478261</td>\n",
              "      <td>January</td>\n",
              "      <td>-1.40097</td>\n",
              "    </tr>\n",
              "    <tr>\n",
              "      <th>1</th>\n",
              "      <td>195202</td>\n",
              "      <td>24.800000</td>\n",
              "      <td>February</td>\n",
              "      <td>-4</td>\n",
              "    </tr>\n",
              "    <tr>\n",
              "      <th>2</th>\n",
              "      <td>195203</td>\n",
              "      <td>13.807692</td>\n",
              "      <td>March</td>\n",
              "      <td>-10.1068</td>\n",
              "    </tr>\n",
              "    <tr>\n",
              "      <th>3</th>\n",
              "      <td>195204</td>\n",
              "      <td>39.607143</td>\n",
              "      <td>April</td>\n",
              "      <td>4.22619</td>\n",
              "    </tr>\n",
              "    <tr>\n",
              "      <th>4</th>\n",
              "      <td>195205</td>\n",
              "      <td>44.666667</td>\n",
              "      <td>May</td>\n",
              "      <td>7.03704</td>\n",
              "    </tr>\n",
              "  </tbody>\n",
              "</table>\n",
              "</div>"
            ]
          },
          "metadata": {}
        }
      ],
      "execution_count": 15,
      "metadata": {
        "collapsed": false,
        "outputHidden": false,
        "inputHidden": false
      }
    },
    {
      "cell_type": "markdown",
      "source": [
        "We can also save this dataframe into a new csv file if we want to!"
      ],
      "metadata": {}
    },
    {
      "cell_type": "markdown",
      "source": [
        "## Calculating Monthly Temperature Anomalies\n",
        "\n",
        "Here by temperature anomalies we mean how much the average temperatures for each month in every year throughout the dataset varied from the mean temperature of that month for the whole dataset.\n",
        "\n",
        "For example, the anomaly for the average temperature of January 1972 is the difference between the avergae temperature of January 1972 from the mean of the average temperatures of all the Januaries recorded in our dataframe."
      ],
      "metadata": {}
    },
    {
      "cell_type": "code",
      "source": [
        "##creating the column avgTempsC in the Dataframe\n",
        "Data['avgTempsC'] = None\n",
        "##iterating the conversion and adding it to the column\n",
        "for idx, row in Data.iterrows():\n",
        "    #conversion\n",
        "    celsius2 = FahrToCelsius(row['TAVG'])\n",
        "    #adding the values to the empty column\n",
        "    Data.loc[idx,'avgTempsC'] = celsius2\n",
        "##grouping data across the years based on the months\n",
        "referenceTemps = pd.DataFrame()\n",
        "grouped2 = Data.groupby('DATE_month')\n",
        "##the columns that we wanna aggregate\n",
        "mean_cols2 = ['avgTempsC']\n",
        "##iterating over the groups to get the mean values of each month over the years 1952-80\n",
        "for key, group in grouped2:\n",
        "    mean_values2 = group[mean_cols2].mean()\n",
        "    mean_values2['Month'] = key\n",
        "    referenceTemps = referenceTemps.append(mean_values2, ignore_index=True)\n",
        "##mapping month names to month numbers. The dictionary has already been created.\n",
        "referenceTemps['Month'] = referenceTemps['Month'].map(dict_months)\n",
        "##merging the tables referenceTemps and monthlyData\n",
        "monthlyData = monthlyData.merge(referenceTemps, on='Month')\n",
        "monthlyData['Diff'] = monthlyData['TempsC']-monthlyData['avgTempsC']\n",
        "monthlyData.head()"
      ],
      "outputs": [
        {
          "output_type": "execute_result",
          "execution_count": 16,
          "data": {
            "text/plain": [
              "  DATE_yrmonth       TAVG    Month   TempsC  avgTempsC       Diff\n",
              "0       195201  29.478261  January -1.40097  -5.356043    3.95508\n",
              "1       195301  22.285714  January -5.39683  -5.356043 -0.0407823\n",
              "2       195401  19.269231  January -7.07265  -5.356043   -1.71661\n",
              "3       195501  22.148148  January -5.47325  -5.356043  -0.117208\n",
              "4       195601  17.360000  January -8.13333  -5.356043   -2.77729"
            ],
            "text/html": [
              "<div>\n",
              "<style scoped>\n",
              "    .dataframe tbody tr th:only-of-type {\n",
              "        vertical-align: middle;\n",
              "    }\n",
              "\n",
              "    .dataframe tbody tr th {\n",
              "        vertical-align: top;\n",
              "    }\n",
              "\n",
              "    .dataframe thead th {\n",
              "        text-align: right;\n",
              "    }\n",
              "</style>\n",
              "<table border=\"1\" class=\"dataframe\">\n",
              "  <thead>\n",
              "    <tr style=\"text-align: right;\">\n",
              "      <th></th>\n",
              "      <th>DATE_yrmonth</th>\n",
              "      <th>TAVG</th>\n",
              "      <th>Month</th>\n",
              "      <th>TempsC</th>\n",
              "      <th>avgTempsC</th>\n",
              "      <th>Diff</th>\n",
              "    </tr>\n",
              "  </thead>\n",
              "  <tbody>\n",
              "    <tr>\n",
              "      <th>0</th>\n",
              "      <td>195201</td>\n",
              "      <td>29.478261</td>\n",
              "      <td>January</td>\n",
              "      <td>-1.40097</td>\n",
              "      <td>-5.356043</td>\n",
              "      <td>3.95508</td>\n",
              "    </tr>\n",
              "    <tr>\n",
              "      <th>1</th>\n",
              "      <td>195301</td>\n",
              "      <td>22.285714</td>\n",
              "      <td>January</td>\n",
              "      <td>-5.39683</td>\n",
              "      <td>-5.356043</td>\n",
              "      <td>-0.0407823</td>\n",
              "    </tr>\n",
              "    <tr>\n",
              "      <th>2</th>\n",
              "      <td>195401</td>\n",
              "      <td>19.269231</td>\n",
              "      <td>January</td>\n",
              "      <td>-7.07265</td>\n",
              "      <td>-5.356043</td>\n",
              "      <td>-1.71661</td>\n",
              "    </tr>\n",
              "    <tr>\n",
              "      <th>3</th>\n",
              "      <td>195501</td>\n",
              "      <td>22.148148</td>\n",
              "      <td>January</td>\n",
              "      <td>-5.47325</td>\n",
              "      <td>-5.356043</td>\n",
              "      <td>-0.117208</td>\n",
              "    </tr>\n",
              "    <tr>\n",
              "      <th>4</th>\n",
              "      <td>195601</td>\n",
              "      <td>17.360000</td>\n",
              "      <td>January</td>\n",
              "      <td>-8.13333</td>\n",
              "      <td>-5.356043</td>\n",
              "      <td>-2.77729</td>\n",
              "    </tr>\n",
              "  </tbody>\n",
              "</table>\n",
              "</div>"
            ]
          },
          "metadata": {}
        }
      ],
      "execution_count": 16,
      "metadata": {
        "collapsed": false,
        "outputHidden": false,
        "inputHidden": false
      }
    },
    {
      "cell_type": "code",
      "source": [
        "%matplotlib qt\n",
        "plt.scatter(monthlyData.index, monthlyData['Diff'])"
      ],
      "outputs": [
        {
          "output_type": "execute_result",
          "execution_count": 18,
          "data": {
            "text/plain": [
              "<matplotlib.collections.PathCollection at 0x121823fd0>"
            ]
          },
          "metadata": {}
        }
      ],
      "execution_count": 18,
      "metadata": {
        "collapsed": false,
        "outputHidden": false,
        "inputHidden": false
      }
    },
    {
      "cell_type": "code",
      "source": [],
      "outputs": [],
      "execution_count": null,
      "metadata": {
        "collapsed": false,
        "outputHidden": false,
        "inputHidden": false
      }
    }
  ],
  "metadata": {
    "kernel_info": {
      "name": "python3"
    },
    "language_info": {
      "name": "python",
      "version": "3.7.3",
      "mimetype": "text/x-python",
      "codemirror_mode": {
        "name": "ipython",
        "version": 3
      },
      "pygments_lexer": "ipython3",
      "nbconvert_exporter": "python",
      "file_extension": ".py"
    },
    "kernelspec": {
      "name": "python3",
      "language": "python",
      "display_name": "Python 3"
    },
    "nteract": {
      "version": "0.15.0"
    }
  },
  "nbformat": 4,
  "nbformat_minor": 0
}