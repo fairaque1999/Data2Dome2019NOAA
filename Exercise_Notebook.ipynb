{
  "cells": [
    {
      "cell_type": "markdown",
      "source": [
        "# DATA TO DOME 2019, Colgate University\n",
        "## REDUCING NOAA DATASETS\n",
        "### Fairuz Ishraque'22"
      ],
      "metadata": {}
    },
    {
      "cell_type": "markdown",
      "source": [
        "## Importing the required Libraries\n",
        "\n",
        "We will start by importing the required python modules or libraries. \n",
        "The two essential libraries for this exercies are **numpy** and **pandas**. If you want to plot your data too it's a good idea to import the matplotlib library."
      ],
      "metadata": {}
    },
    {
      "cell_type": "code",
      "source": [
        "import numpy as np\n",
        "import pandas as pd\n",
        "import matplotlib.pyplot as plt "
      ],
      "outputs": [],
      "execution_count": null,
      "metadata": {
        "collapsed": false,
        "outputHidden": false,
        "inputHidden": false
      }
    },
    {
      "cell_type": "markdown",
      "source": [
        "## Importing the NOAA .csv file as a pandas Dataframe\n",
        "\n",
        "Tables in pandas are called dataframes. This format of the table makes it really easy to manipulate the columns and rows of the table for classifying as well as cleaning th dataset."
      ],
      "metadata": {}
    },
    {
      "cell_type": "code",
      "source": [
        "Data = pd.read_csv('Helsinki_Station_Data(1952-2017).txt', sep='\\s+', na_values='-9999', skiprows=[1])"
      ],
      "outputs": [],
      "execution_count": null,
      "metadata": {
        "collapsed": false,
        "outputHidden": false,
        "inputHidden": false
      }
    },
    {
      "cell_type": "markdown",
      "source": [
        "It's always a good idea to look at the relevant information of the loaded dataframe before proceeding with any form of analysis or editing on the data."
      ],
      "metadata": {}
    },
    {
      "cell_type": "code",
      "source": [
        "#Insert your code below"
      ],
      "outputs": [],
      "execution_count": null,
      "metadata": {
        "collapsed": false,
        "outputHidden": false,
        "inputHidden": false
      }
    },
    {
      "cell_type": "code",
      "source": [
        "#Insert your code below"
      ],
      "outputs": [],
      "execution_count": null,
      "metadata": {
        "collapsed": false,
        "outputHidden": false,
        "inputHidden": false
      }
    },
    {
      "cell_type": "markdown",
      "source": [
        "## Finding the TMAX temperature for the summer of '69\n",
        "\n",
        "This is an exercise on perfomring string slicing as well as conditional indexing of the dataset"
      ],
      "metadata": {}
    },
    {
      "cell_type": "markdown",
      "source": [
        "1. Slicing the month numbers out of the DATE column and assigning them to the month names"
      ],
      "metadata": {}
    },
    {
      "cell_type": "code",
      "source": [
        "#Converting the DATE column into string values from integers. This procedure makes the slicing of dates possible\n",
        "Data['DATE_str'] = Data['DATE'].astype(str)\n",
        "#Slicing the day values out of DATE_str\n",
        "Data['DATE_yrmonth'] = Data['DATE_str'].str.slice(start=0, stop=6)\n",
        "#Converting DATE_str into integer values\n",
        "Data['DATE_yrmonthint'] = Data['DATE_yrmonth'].astype(int)\n",
        "#creating a column of integers with the year in them \n",
        "Data['DATE_yrint'] = Data['DATE_str'].str.slice(start=0, stop=4)\n",
        "Data['DATE_yrint'] = Data['DATE_yrint'].astype(int)\n",
        "#creating a column for just the number of months. This makes the mapping of month names to the month numbers possible\n",
        "Data['DATE_month'] = Data['DATE_str'].str.slice(start=4, stop=6)"
      ],
      "outputs": [],
      "execution_count": null,
      "metadata": {
        "collapsed": false,
        "outputHidden": false,
        "inputHidden": false
      }
    },
    {
      "cell_type": "markdown",
      "source": [
        "2. Creating a dictionary that maps the month names to the dataset"
      ],
      "metadata": {}
    },
    {
      "cell_type": "code",
      "source": [
        "dict_months = {'01':'January', '02':'February', '03':'March', '04':'April',\\\n",
        "               '05':'May', '06':'June', '07':'July', '08':'August', '09':'September',\\\n",
        "               '10':'October', '11':'November', '12':'December'}"
      ],
      "outputs": [],
      "execution_count": null,
      "metadata": {
        "collapsed": false,
        "outputHidden": false,
        "inputHidden": false
      }
    },
    {
      "cell_type": "markdown",
      "source": [
        "3. Performing a conditional indexing on the dataframe. This is similar to if-else statement you might be familiar with, but now the condtitions are applied to the entire dataframe. In this case we are extracting a subset of our main dataframe as a series that only contains the data from May 1969 to August 1969."
      ],
      "metadata": {}
    },
    {
      "cell_type": "code",
      "source": [
        "#insert your code below"
      ],
      "outputs": [],
      "execution_count": null,
      "metadata": {
        "collapsed": false,
        "outputHidden": false,
        "inputHidden": false
      }
    },
    {
      "cell_type": "markdown",
      "source": [
        "4. Finally, finding the max tempertaure during the summer of '69"
      ],
      "metadata": {}
    },
    {
      "cell_type": "code",
      "source": [
        "#insert you code below"
      ],
      "outputs": [],
      "execution_count": null,
      "metadata": {
        "collapsed": false,
        "outputHidden": false,
        "inputHidden": false
      }
    },
    {
      "cell_type": "markdown",
      "source": [
        "And Voila! We're done!"
      ],
      "metadata": {}
    },
    {
      "cell_type": "markdown",
      "source": [
        "## Calculating Monthly Average Temperatures\n",
        "\n",
        "This is an exercise on grouping data and iterating through a dataset"
      ],
      "metadata": {}
    },
    {
      "cell_type": "markdown",
      "source": [
        "1. Grouping the monthly data"
      ],
      "metadata": {}
    },
    {
      "cell_type": "code",
      "source": [
        "#insert your code below  "
      ],
      "outputs": [],
      "execution_count": null,
      "metadata": {
        "collapsed": false,
        "outputHidden": false,
        "inputHidden": false
      }
    },
    {
      "cell_type": "markdown",
      "source": [
        "2. Iterating over the group to get the mean monthly temperature values"
      ],
      "metadata": {}
    },
    {
      "cell_type": "code",
      "source": [
        "#insert your loop below"
      ],
      "outputs": [],
      "execution_count": null,
      "metadata": {
        "collapsed": false,
        "outputHidden": false,
        "inputHidden": false
      }
    },
    {
      "cell_type": "markdown",
      "source": [
        "3. Creating a column in monthlyData for month numbers and then remapping the month numbers to month names using the previously defined dictionary. Also, creating a column with the Month Numbers as integer values"
      ],
      "metadata": {}
    },
    {
      "cell_type": "code",
      "source": [
        "#insert your code below"
      ],
      "outputs": [],
      "execution_count": null,
      "metadata": {
        "collapsed": false,
        "outputHidden": false,
        "inputHidden": false
      }
    },
    {
      "cell_type": "markdown",
      "source": [
        "4. Creating another column in monthlyData for temperature values in celcius  "
      ],
      "metadata": {}
    },
    {
      "cell_type": "code",
      "source": [
        "#insert your code below"
      ],
      "outputs": [],
      "execution_count": null,
      "metadata": {
        "collapsed": false,
        "outputHidden": false,
        "inputHidden": false
      }
    },
    {
      "cell_type": "markdown",
      "source": [
        "5. Writing a function that converts temperatures from Fahrenheit to Celcius"
      ],
      "metadata": {}
    },
    {
      "cell_type": "code",
      "source": [
        "#insert your function below"
      ],
      "outputs": [],
      "execution_count": null,
      "metadata": {
        "collapsed": false,
        "outputHidden": false,
        "inputHidden": false
      }
    },
    {
      "cell_type": "markdown",
      "source": [
        "6. Iterating the conversion through the monthlyData dataframe and adding it to the new column TempsC"
      ],
      "metadata": {}
    },
    {
      "cell_type": "code",
      "source": [
        "#insert your loop below (iterrows)"
      ],
      "outputs": [],
      "execution_count": null,
      "metadata": {
        "collapsed": false,
        "outputHidden": false,
        "inputHidden": false
      }
    },
    {
      "cell_type": "markdown",
      "source": [
        "Now, let's look at the new Dataframe we have created!"
      ],
      "metadata": {}
    },
    {
      "cell_type": "code",
      "source": [
        "#insert your code below"
      ],
      "outputs": [],
      "execution_count": null,
      "metadata": {
        "collapsed": false,
        "outputHidden": false,
        "inputHidden": false
      }
    },
    {
      "cell_type": "markdown",
      "source": [
        "We can also save this dataframe into a new csv file if we want to!"
      ],
      "metadata": {}
    },
    {
      "cell_type": "markdown",
      "source": [
        "## Calculating Monthly Temperature Anomalies\n",
        "\n",
        "Here by temperature anomalies we mean how much the average temperatures for each month in every year throughout the dataset varied from the mean temperature of that month for the whole dataset.\n",
        "\n",
        "For example, the anomaly for the average temperature of January 1972 is the difference between the avergae temperature of January 1972 from the mean of the average temperatures of all the Januaries recorded in our dataframe."
      ],
      "metadata": {}
    },
    {
      "cell_type": "code",
      "source": [
        "##creating the column avgTempsC in the Dataframe\n",
        "Data['avgTempsC'] = None\n",
        "##iterating the conversion and adding it to the column\n",
        "for idx, row in Data.iterrows():\n",
        "    #conversion\n",
        "    celsius2 = FahrToCelsius(row['TAVG'])\n",
        "    #adding the values to the empty column\n",
        "    Data.loc[idx,'avgTempsC'] = celsius2\n",
        "##grouping data across the years based on the months\n",
        "referenceTemps = pd.DataFrame()\n",
        "grouped2 = Data.groupby('DATE_month')\n",
        "##the columns that we wanna aggregate\n",
        "mean_cols2 = ['avgTempsC']\n",
        "##iterating over the groups to get the mean values of each month over the years 1952-80\n",
        "for key, group in grouped2:\n",
        "    mean_values2 = group[mean_cols2].mean()\n",
        "    mean_values2['Month'] = key\n",
        "    referenceTemps = referenceTemps.append(mean_values2, ignore_index=True)\n",
        "##mapping month names to month numbers. The dictionary has already been created.\n",
        "referenceTemps['Month'] = referenceTemps['Month'].map(dict_months)\n",
        "##merging the tables referenceTemps and monthlyData\n",
        "monthlyData = monthlyData.merge(referenceTemps, on='Month')\n",
        "monthlyData['Diff'] = monthlyData['TempsC']-monthlyData['avgTempsC']\n",
        "monthlyData.head()"
      ],
      "outputs": [],
      "execution_count": null,
      "metadata": {
        "collapsed": false,
        "outputHidden": false,
        "inputHidden": false
      }
    },
    {
      "cell_type": "code",
      "source": [
        "plt.scatter(monthlyData.index, monthlyData['Diff'], c=monthlyData['MonthNum'], cmap='rainbow')\n",
        "plt.xlabel('Index')\n",
        "plt.ylabel('Temperature Anomalies (in Degrees Celcius)')\n",
        "plt.title('Temperature anomalies at Helsinki from 1952-2017 (Sorted by each Month)')\n",
        "plt.colorbar(ticks=[1,2,3,4,5,6,7,8,9,10,11,12], label='Number of Months') "
      ],
      "outputs": [],
      "execution_count": null,
      "metadata": {
        "collapsed": false,
        "outputHidden": false,
        "inputHidden": false
      }
    }
  ],
  "metadata": {
    "kernel_info": {
      "name": "python3"
    },
    "language_info": {
      "name": "python",
      "version": "3.7.3",
      "mimetype": "text/x-python",
      "codemirror_mode": {
        "name": "ipython",
        "version": 3
      },
      "pygments_lexer": "ipython3",
      "nbconvert_exporter": "python",
      "file_extension": ".py"
    },
    "kernelspec": {
      "name": "python3",
      "language": "python",
      "display_name": "Python 3"
    },
    "nteract": {
      "version": "0.15.0"
    }
  },
  "nbformat": 4,
  "nbformat_minor": 0
}